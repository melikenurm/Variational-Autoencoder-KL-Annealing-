{
 "cells": [
  {
   "cell_type": "code",
   "execution_count": 1,
   "metadata": {
    "colab": {
     "base_uri": "https://localhost:8080/",
     "height": 63
    },
    "colab_type": "code",
    "id": "ycmN8RaXs94H",
    "outputId": "16cb9572-a110-4cef-aac4-77be8bf9bd47"
   },
   "outputs": [],
   "source": [
    "\"\"\"\n",
    "Variational autoencoder (VAE) for a 1D normal distribution based on\n",
    "    https://jmetzen.github.io/2015-11-27/vae.html\n",
    "Original paper:\n",
    "    Auto-encoding variational Bayes.\n",
    "    https://arxiv.org/abs/1312.6114\n",
    "\"\"\"\n",
    "import numpy as np\n",
    "import matplotlib.pyplot as plt\n",
    "import tensorflow as tf\n",
    "\n",
    "seed=0"
   ]
  },
  {
   "cell_type": "code",
   "execution_count": 2,
   "metadata": {
    "colab": {},
    "colab_type": "code",
    "id": "4ttJWHr7q1zx"
   },
   "outputs": [],
   "source": [
    "class DataDistribution2d(object):\n",
    "    def __init__(self, mu=([2,6]), sigma=([[.25, 1], [.5,.25]])):\n",
    "        self.mu    = np.array(mu)\n",
    "        self.sigma = np.array(sigma)\n",
    "\n",
    "    def change(self, **kwargs):\n",
    "      self.mu=np.array(kwargs.get('mu'))\n",
    "      self.sigma=np.array(kwargs.get('sigma'))\n",
    "\n",
    "    def sample(self, size): #bu dağılımdan 'size' tane örnek üret\n",
    "        x = np.random.multivariate_normal(self.mu, self.sigma, size)\n",
    "        return x"
   ]
  },
  {
   "cell_type": "code",
   "execution_count": 3,
   "metadata": {
    "colab": {},
    "colab_type": "code",
    "id": "LohGNirTtB6s"
   },
   "outputs": [],
   "source": [
    "def weight(shape): #shape=nöron sayısı\n",
    "    bound = np.sqrt(6.0 / np.sum(shape))\n",
    "    init  = tf.random_uniform_initializer(-bound, bound) #ağırlıkların başlangıç değerleri rastgele uniform dağılımdan, init=tf.random_normal_initializer(stddev=1.0) for gaussian\n",
    "    return tf.get_variable('W', shape, initializer=init)\n",
    "\n",
    "def bias(shape):\n",
    "    init = tf.constant_initializer(0.0) #biasın başlangıç değeri 0\n",
    "    return tf.get_variable('b', shape, initializer=init)\n",
    "\n",
    "def linear(name, x, dim): #dim=shape\n",
    "    with tf.variable_scope(name):\n",
    "        W = weight([x.get_shape()[-1].value, dim])\n",
    "        b = bias([dim])\n",
    "    return tf.matmul(x, W) + b"
   ]
  },
  {
   "cell_type": "code",
   "execution_count": 4,
   "metadata": {
    "colab": {},
    "colab_type": "code",
    "id": "b0bmlJiKtJrw"
   },
   "outputs": [],
   "source": [
    "def encoder(x, hidden_dim=4):\n",
    "    with tf.name_scope('encoder'):\n",
    "        x = linear('E_hidden_1', x, hidden_dim)\n",
    "        x = tf.nn.softmax(x)\n",
    "        x = linear('E_hidden_2', x, hidden_dim)\n",
    "        x = tf.nn.softmax(x)\n",
    "        z_mean    = linear('mean', x, latent_dim) # mean 2 nöronlu bir layer\n",
    "        z_log_var = linear('log_var', x, latent_dim) #log_var 2 nöronlu bir layer\n",
    "\n",
    "    return z_mean, z_log_var\n",
    "\n",
    "def decoder2d(x, hidden_dim=4):\n",
    "    with tf.name_scope('decoder'):\n",
    "        x = linear('D_hidden_1', x, hidden_dim)\n",
    "        x = tf.nn.softplus(x)\n",
    "        x = linear('D_hidden_2', x, hidden_dim)\n",
    "        x = tf.nn.softplus(x)\n",
    "        x = linear('reconstruction', x, 2) # code'u 2D dataya dönüştür\n",
    "\n",
    "    return x"
   ]
  },
  {
   "cell_type": "code",
   "execution_count": 5,
   "metadata": {
    "colab": {},
    "colab_type": "code",
    "id": "uGHgJvoI0sMN"
   },
   "outputs": [],
   "source": [
    "def encode(x_):\n",
    "    return sess.run(z_mean, {x: x_})\n",
    "\n",
    "def generate(z_):\n",
    "    return sess.run(reconstruction, {z: z_})\n",
    "\n",
    "def reconstruct(x_):\n",
    "    return sess.run(reconstruction, {x: x_})"
   ]
  },
  {
   "cell_type": "code",
   "execution_count": 6,
   "metadata": {
    "colab": {},
    "colab_type": "code",
    "id": "lPpqi1varTBe"
   },
   "outputs": [],
   "source": [
    "# Compare data and VAE distributions\n",
    "def plot_distributions_2d(data, reconstructed, epoch, title):     \n",
    "    # Data\n",
    "    x_data = data # sample'lar geliyor (dist. değil)\n",
    "\n",
    "    # Generated samples\n",
    "    x_vae = reconstructed\n",
    "\n",
    "    # Plot distributions\n",
    "    plt.scatter(x_data[:,0], x_data[:,1], c='blue', alpha=0.3, label='Data distribution')\n",
    "\n",
    "    plt.scatter(x_vae[:,0], x_vae[:,1],  c='red', alpha=0.3, label='Reconstructed distribution')\n",
    "\n",
    "    # Set limits\n",
    "    plt.xlim(-2, 10)\n",
    "    plt.ylim(-2, 10)\n",
    "\n",
    "    # Legend\n",
    "    plt.legend(loc='upper right')\n",
    "\n",
    "    # Axis labels\n",
    "    plt.xlabel('X1')\n",
    "    plt.ylabel('X2')\n",
    "    plt.title(title)\n",
    "\n",
    "    # Save figure\n",
    "    plt.savefig('bivariate_normal_vae_'+str(epoch)+'.png')\n",
    "    plt.close()"
   ]
  },
  {
   "cell_type": "code",
   "execution_count": 7,
   "metadata": {},
   "outputs": [],
   "source": [
    "def monotonic_anneal(step, curr_beta):\n",
    "    curr_beta=max(-1, round(curr_beta - 0.0005, 4))\n",
    "    return curr_beta"
   ]
  },
  {
   "cell_type": "code",
   "execution_count": 8,
   "metadata": {},
   "outputs": [],
   "source": [
    "def cyclical_anneal(step, curr_beta):\n",
    "    if(step % 2000 == 1):\n",
    "        curr_beta=0\n",
    "    curr_beta=max(-1, round(curr_beta - 0.001, 4))\n",
    "    return curr_beta"
   ]
  },
  {
   "cell_type": "code",
   "execution_count": 9,
   "metadata": {},
   "outputs": [],
   "source": [
    "def zigzag_anneal(step, curr_beta):\n",
    "    if((int(step / 1000) in (0, 2, 4, 6))):\n",
    "        curr_beta=round(curr_beta - 0.001, 4)\n",
    "    elif((int(step / 1000) in (7, 8, 9))):\n",
    "        curr_beta=-1\n",
    "    elif((int(step / 1000) in (1, 3, 5))):\n",
    "        curr_beta=round(curr_beta + 0.001, 4)\n",
    "    return curr_beta"
   ]
  },
  {
   "cell_type": "code",
   "execution_count": 10,
   "metadata": {},
   "outputs": [],
   "source": [
    "time        = np.arange(0, 100, 0.01);\n",
    "mon_amplitude   = np.round((4/5)**time - 1, 3)\n",
    "cyc_amplitude   = np.round((3/5)**time - 1, 3) \n",
    "def monotonic_smooth(step, curr_beta):\n",
    "    curr_beta=mon_amplitude[step]\n",
    "    return curr_beta\n",
    "\n",
    "def cyclical_smooth(step, curr_beta):\n",
    "    curr_beta=cyc_amplitude[step%2000]\n",
    "    return curr_beta"
   ]
  },
  {
   "cell_type": "code",
   "execution_count": 11,
   "metadata": {
    "colab": {},
    "colab_type": "code",
    "id": "gZsUG07qYN7e"
   },
   "outputs": [],
   "source": [
    "# Seed the TF random number generator for reproducible initialization\n",
    "tf.set_random_seed(seed)\n",
    "\n",
    "# Seed the random number generator for reproducible batches\n",
    "np.random.seed(seed)\n",
    "\n",
    "# Hyperparameters\n",
    "learning_rate = 0.002 #0.002\n",
    "num_steps     = 10000 #10000\n",
    "batch_size    = 100\n",
    "num_examples  = 5000 #20000\n",
    "check_every   = 1000\n",
    "period        = 2000"
   ]
  },
  {
   "cell_type": "code",
   "execution_count": 12,
   "metadata": {
    "colab": {
     "base_uri": "https://localhost:8080/",
     "height": 372
    },
    "colab_type": "code",
    "id": "qWRG0PPetYg-",
    "outputId": "674b9865-0416-4d33-83e9-602dd24a837e",
    "scrolled": true
   },
   "outputs": [
    {
     "name": "stdout",
     "output_type": "stream",
     "text": [
      "\n",
      "Variables\n",
      "---------\n",
      "E_hidden_1/W:0 (2, 4)\n",
      "E_hidden_1/b:0 (4,)\n",
      "E_hidden_2/W:0 (4, 4)\n",
      "E_hidden_2/b:0 (4,)\n",
      "mean/W:0 (4, 1)\n",
      "mean/b:0 (1,)\n",
      "log_var/W:0 (4, 1)\n",
      "log_var/b:0 (1,)\n",
      "D_hidden_1/W:0 (1, 4)\n",
      "D_hidden_1/b:0 (4,)\n",
      "D_hidden_2/W:0 (4, 4)\n",
      "D_hidden_2/b:0 (4,)\n",
      "reconstruction/W:0 (4, 2)\n",
      "reconstruction/b:0 (2,)\n",
      "=> Total number of parameters = 80\n"
     ]
    },
    {
     "name": "stderr",
     "output_type": "stream",
     "text": [
      "C:\\Users\\Melike Nur Mermer\\Anaconda3\\envs\\tensorflow\\lib\\site-packages\\ipykernel_launcher.py:11: RuntimeWarning: covariance is not positive-semidefinite.\n",
      "  # This is added back by InteractiveShellApp.init_path()\n"
     ]
    }
   ],
   "source": [
    "# 2-D vae\n",
    "\n",
    "# For feeding in data\n",
    "x = tf.placeholder(tf.float32, [None, 2])\n",
    "\n",
    "# Latent space dimension\n",
    "latent_dim = 1 #2d dist yüksek dim. önemli değil\n",
    "\n",
    "# Model\n",
    "z_mean, z_log_var = encoder(x)\n",
    "epsilon = tf.random_normal(tf.shape(z_log_var))\n",
    "z = z_mean + epsilon * tf.exp(0.5*z_log_var) # \"Reparametrization trick\"\n",
    "logits = decoder2d(z) #decoder2d for 2d dist\n",
    "reconstruction = logits #tf.nn.sigmoid(logits)\n",
    "\n",
    "# Reconstruction loss\n",
    "CE = tf.square(logits - x)\n",
    "# Sum over all dimensions for sum_ce\n",
    "CE = tf.reduce_sum(CE, 1) # tf.reduce_sum(CE, [0, 1])\n",
    "\n",
    "beta=tf.placeholder(tf.float32)\n",
    "# Latent loss\n",
    "KL = 1 + z_log_var - tf.square(z_mean) - tf.exp(z_log_var)\n",
    "KL = beta * tf.reduce_sum(KL, 1)\n",
    "\n",
    "# Total loss\n",
    "loss = tf.reduce_mean(CE + KL)\n",
    "\n",
    "# Optimizer\n",
    "optimizer = tf.train.AdamOptimizer(learning_rate)\n",
    "train_op  = optimizer.minimize(loss)\n",
    "\n",
    "# Print list of variables\n",
    "print(\"\")\n",
    "print(\"Variables\")\n",
    "print(\"---------\")\n",
    "variables  = tf.get_collection(tf.GraphKeys.TRAINABLE_VARIABLES)\n",
    "num_params = 0\n",
    "for v in variables:\n",
    "    num_params += np.prod(v.get_shape().as_list())\n",
    "    print(v.name, v.get_shape())\n",
    "print(\"=> Total number of parameters =\", num_params)\n",
    "\n",
    "# TF session\n",
    "sess = tf.Session()\n",
    "sess.run(tf.global_variables_initializer())\n",
    "\n",
    "# Data distribution\n",
    "data = DataDistribution2d()\n",
    "#data.change(mu=([6, 9]), sigma =([[.25, 1], [.5,.25]]))\n",
    "data2 = DataDistribution2d()\n",
    "data2.change(mu=([6, 2]), sigma =([[.25, 1], [.5,.25]]))\n",
    "#data3 = DataDistribution2d()\n",
    "#data3.change(mu=([7, 7]), sigma =([[.1, .001], [.001, .01]]))\n",
    "#data4 = DataDistribution2d()\n",
    "#data4.change(mu=([1, 1]), sigma =([[1, -1], [1, -1]])) # mu=([6,2])\n",
    "#data2=None\n",
    "data3=None\n",
    "data4=None\n",
    "\n",
    "#num_batches_per_epoch = num_examples // batch_size\n",
    "data_samples=data.sample(num_examples)\n",
    "test_data=data_samples\n",
    "\n",
    "if(data2):\n",
    "  data2_samples=data2.sample(num_examples)\n",
    "  test_data = np.concatenate((test_data, data2_samples), axis=0)\n",
    "if(data3):\n",
    "  data3_samples=data3.sample(num_examples)\n",
    "  test_data = np.concatenate((test_data, data3_samples), axis=0)\n",
    "if(data4):\n",
    "  data4_samples=data4.sample(num_examples)\n",
    "  test_data = np.concatenate((test_data, data4_samples), axis=0)    \n",
    "\n",
    "losses=[]\n",
    "betas=[]\n",
    "curr_beta=0\n",
    "\n",
    "# Minimize the loss function\n",
    "for step in range(num_steps):\n",
    "    batch_x   = data.sample(batch_size)\n",
    "    if(data2):\n",
    "      batch_x2   = data2.sample(batch_size)\n",
    "      batch_x   = np.concatenate((batch_x, batch_x2), axis=0)\n",
    "    if(data3):\n",
    "      batch_x3   = data3.sample(batch_size)\n",
    "      batch_x   = np.concatenate((batch_x, batch_x3), axis=0)    \n",
    "    if(data4):\n",
    "      batch_x4   = data4.sample(batch_size)\n",
    "      batch_x   = np.concatenate((batch_x, batch_x4), axis=0)\n",
    "    \n",
    "    #for monotonic annealing\n",
    "    #curr_beta=max(-1, round(curr_beta - 0.0005, 4)) \n",
    "    \n",
    "    #for cyclical annealing\n",
    "    #if(step % 2000 == 1):\n",
    "    #    curr_beta=0\n",
    "    #curr_beta=max(-1, round(curr_beta - 0.001, 4))\n",
    "        \n",
    "    #for zigzag annealing\n",
    "    #if((int(step / 1000) in (0, 3, 6))):\n",
    "    #    curr_beta=round(curr_beta - 0.001, 4)\n",
    "    #elif((int(step / 1000) in (2, 5, 8, 9))):\n",
    "    #    curr_beta=-1\n",
    "    #elif((int(step / 1000) in (1, 4, 7))):\n",
    "    #    curr_beta=round(curr_beta + 0.001, 4)\n",
    "    \n",
    "    curr_beta=zigzag_anneal(step, curr_beta)\n",
    "    \n",
    "    betas.append(curr_beta)\n",
    "    feed_dict = {x: batch_x, beta:curr_beta} # reshape vector haline getirmek için\n",
    "    _, current_loss = sess.run([train_op, loss], feed_dict)\n",
    "    losses.append(current_loss)\n",
    "\n",
    "    if (step+1) % check_every == 0:\n",
    "        title=\"After \" + str(step+1) + \" steps\" #, loss = \" + str(round(current_loss, 4))\n",
    "        reconstructed = reconstruct(test_data)\n",
    "        plot_distributions_2d(test_data, reconstructed, int((step+1)/check_every), title) # 2 dist için data2_samples da ver"
   ]
  },
  {
   "cell_type": "code",
   "execution_count": 13,
   "metadata": {},
   "outputs": [
    {
     "data": {
      "image/png": "[encoded data removed]",
      "text/plain": [
       "<Figure size 432x288 with 1 Axes>"
      ]
     },
     "metadata": {
      "needs_background": "light"
     },
     "output_type": "display_data"
    }
   ],
   "source": [
    "plt.plot(betas[:10000])\n",
    "plt.savefig('betas.png')"
   ]
  },
  {
   "cell_type": "code",
   "execution_count": 14,
   "metadata": {
    "scrolled": true
   },
   "outputs": [
    {
     "data": {
      "image/png": "[encoded data removed]",
      "text/plain": [
       "<Figure size 432x288 with 1 Axes>"
      ]
     },
     "metadata": {
      "needs_background": "light"
     },
     "output_type": "display_data"
    }
   ],
   "source": [
    "from scipy.ndimage.filters import gaussian_filter1d\n",
    "\n",
    "ysmoothed = gaussian_filter1d(losses, sigma=50)\n",
    "plt.plot(losses, c='blue', alpha=0.3, label='Real loss')\n",
    "plt.plot(ysmoothed, c='blue', label='Smoothed loss')\n",
    "plt.legend(loc='upper right')\n",
    "plt.savefig('losses.png')"
   ]
  },
  {
   "cell_type": "code",
   "execution_count": 15,
   "metadata": {},
   "outputs": [],
   "source": [
    "title=\"After \" + str(num_steps) + \" steps, loss = \" + str(round(ysmoothed[num_steps-1], 4))\n",
    "reconstructed = reconstruct(test_data)\n",
    "plot_distributions_2d(test_data, reconstructed, int(num_steps/check_every), title) # 2 dist için data2_samples da ver"
   ]
  },
  {
   "cell_type": "code",
   "execution_count": 16,
   "metadata": {},
   "outputs": [
    {
     "data": {
      "image/png": "[encoded data removed]",
      "text/plain": [
       "<Figure size 432x288 with 1 Axes>"
      ]
     },
     "metadata": {
      "needs_background": "light"
     },
     "output_type": "display_data"
    }
   ],
   "source": [
    "plt.plot(losses[9000:10000], c='blue', alpha=0.3, label='Real loss')\n",
    "plt.plot(ysmoothed[9000:10000], c='blue', label='Smoothed loss')\n",
    "plt.savefig('dahayakin.png')"
   ]
  },
  {
   "cell_type": "code",
   "execution_count": 17,
   "metadata": {},
   "outputs": [
    {
     "data": {
      "text/plain": [
       "True"
      ]
     },
     "execution_count": 17,
     "metadata": {},
     "output_type": "execute_result"
    }
   ],
   "source": [
    "step=4312\n",
    "int(step / 1000) in(0, 4, 8)"
   ]
  },
  {
   "cell_type": "code",
   "execution_count": 18,
   "metadata": {},
   "outputs": [
    {
     "data": {
      "text/plain": [
       "'curr_beta=0\\nbetas=[]\\nfor step in range(num_steps):\\n    #for zigzag annealing\\n    if((int(step / 1000) in (0, 4, 8))):\\n        curr_beta=round(curr_beta - 0.001, 4)\\n    elif((int(step / 1000) in (1, 5, 9))):\\n        curr_beta=-1\\n    elif((int(step / 1000) in (2, 6))):\\n        curr_beta=round(curr_beta + 0.001, 4)\\n    else:\\n        curr_beta=0\\n    betas.append(curr_beta)\\n\\nplt.plot(betas)'"
      ]
     },
     "execution_count": 18,
     "metadata": {},
     "output_type": "execute_result"
    }
   ],
   "source": [
    "\"\"\"curr_beta=0\n",
    "betas=[]\n",
    "for step in range(num_steps):\n",
    "    #for zigzag annealing\n",
    "    if((int(step / 1000) in (0, 4, 8))):\n",
    "        curr_beta=round(curr_beta - 0.001, 4)\n",
    "    elif((int(step / 1000) in (1, 5, 9))):\n",
    "        curr_beta=-1\n",
    "    elif((int(step / 1000) in (2, 6))):\n",
    "        curr_beta=round(curr_beta + 0.001, 4)\n",
    "    else:\n",
    "        curr_beta=0\n",
    "    betas.append(curr_beta)\n",
    "\n",
    "plt.plot(betas)\"\"\""
   ]
  },
  {
   "cell_type": "code",
   "execution_count": 19,
   "metadata": {},
   "outputs": [
    {
     "data": {
      "text/plain": [
       "[<matplotlib.lines.Line2D at 0x2595d529148>]"
      ]
     },
     "execution_count": 19,
     "metadata": {},
     "output_type": "execute_result"
    },
    {
     "data": {
      "image/png": "[encoded data removed]",
      "text/plain": [
       "<Figure size 432x288 with 1 Axes>"
      ]
     },
     "metadata": {
      "needs_background": "light"
     },
     "output_type": "display_data"
    }
   ],
   "source": [
    "time        = np.arange(0, 100, 0.01);\n",
    "amplitude   = np.round((4/5)**time - 1, 3)\n",
    "#amplitude2  = (time)**2-1\n",
    "#amplitude   = np.append(amplitude, amplitude2)\n",
    "plt.plot(amplitude)"
   ]
  },
  {
   "cell_type": "code",
   "execution_count": 20,
   "metadata": {},
   "outputs": [
    {
     "data": {
      "text/plain": [
       "-1.0"
      ]
     },
     "execution_count": 20,
     "metadata": {},
     "output_type": "execute_result"
    }
   ],
   "source": [
    "amplitude[4100]"
   ]
  },
  {
   "cell_type": "code",
   "execution_count": 21,
   "metadata": {},
   "outputs": [],
   "source": [
    "if(step>len(amplitude)):\n",
    "    print('True')"
   ]
  },
  {
   "cell_type": "code",
   "execution_count": 22,
   "metadata": {},
   "outputs": [
    {
     "data": {
      "text/plain": [
       "-1"
      ]
     },
     "execution_count": 22,
     "metadata": {},
     "output_type": "execute_result"
    }
   ],
   "source": [
    "curr_beta"
   ]
  },
  {
   "cell_type": "code",
   "execution_count": null,
   "metadata": {},
   "outputs": [],
   "source": []
  }
 ],
 "metadata": {
  "accelerator": "GPU",
  "colab": {
   "collapsed_sections": [],
   "name": "2D_VAE.ipynb",
   "provenance": []
  },
  "kernelspec": {
   "display_name": "Python 3",
   "language": "python",
   "name": "python3"
  },
  "language_info": {
   "codemirror_mode": {
    "name": "ipython",
    "version": 3
   },
   "file_extension": ".py",
   "mimetype": "text/x-python",
   "name": "python",
   "nbconvert_exporter": "python",
   "pygments_lexer": "ipython3",
   "version": "3.7.5"
  }
 },
 "nbformat": 4,
 "nbformat_minor": 1
}
